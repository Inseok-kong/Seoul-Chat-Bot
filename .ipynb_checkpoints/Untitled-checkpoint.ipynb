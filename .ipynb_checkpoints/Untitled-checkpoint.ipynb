{
 "cells": [
  {
   "cell_type": "code",
   "execution_count": 7,
   "id": "602098e9-85e3-4545-a792-2198565667ce",
   "metadata": {},
   "outputs": [
    {
     "name": "stdout",
     "output_type": "stream",
     "text": [
      "서울시 야경 명소 추천 챗봇입니다. 종료하려면 '종료'라고 입력하세요.\n"
     ]
    },
    {
     "name": "stdin",
     "output_type": "stream",
     "text": [
      "질문을 입력하세요:  서울 야경 명소 추천해줘\n"
     ]
    },
    {
     "name": "stdout",
     "output_type": "stream",
     "text": [
      "**서울 야경 명소 추천:**\n",
      "\n",
      "* **한강공원 물빛광장:** 서울의 대표적인 야경으로, 다양한 식단과 수업을 제공합니다.\n",
      "* **뚝섬 음악분수:** 음악과 예술을 기억하는 사람에게 특별한 명소로, 밤에 환상적인 음악을 들을 수 있습니다.\n",
      "* **석촌호수 루미나리에:** 호수의 섬세한 표면과 조명된 거리는 밤에 탄력적인 경관을 제공합니다.\n",
      "* **하늘공원:** 서울의 중심적인 야경으로, 다양한 방과 관광을 제공합니다.\n",
      "* **월드컵공원:** 세계적인 관광 명소로, 밤에 한옥와 음악이 펼쳐지는 환경이 특징적입니다.\n"
     ]
    },
    {
     "name": "stdin",
     "output_type": "stream",
     "text": [
      "질문을 입력하세요:  종료\n"
     ]
    },
    {
     "name": "stdout",
     "output_type": "stream",
     "text": [
      "챗봇을 종료합니다.\n"
     ]
    },
    {
     "ename": "SystemExit",
     "evalue": "",
     "output_type": "error",
     "traceback": [
      "An exception has occurred, use %tb to see the full traceback.\n",
      "\u001b[1;31mSystemExit\u001b[0m\n"
     ]
    },
    {
     "name": "stderr",
     "output_type": "stream",
     "text": [
      "C:\\miniforge3\\Lib\\site-packages\\IPython\\core\\interactiveshell.py:3587: UserWarning: To exit: use 'exit', 'quit', or Ctrl-D.\n",
      "  warn(\"To exit: use 'exit', 'quit', or Ctrl-D.\", stacklevel=1)\n"
     ]
    }
   ],
   "source": [
    "import pandas as pd\n",
    "import numpy as np\n",
    "import faiss\n",
    "from sentence_transformers import SentenceTransformer\n",
    "import requests\n",
    "import sys\n",
    "\n",
    "# ---------------------\n",
    "# 1. 데이터 로드 및 전처리\n",
    "# ---------------------\n",
    "file_path = \"./서울시 야경명소 정보.csv\"\n",
    "\n",
    "try:\n",
    "    night_view_df = pd.read_csv(file_path, encoding='euc-kr', low_memory=False)\n",
    "except UnicodeDecodeError:\n",
    "    night_view_df = pd.read_csv(file_path, encoding='utf-8', low_memory=False)\n",
    "\n",
    "# 공백 제거\n",
    "night_view_df.columns = night_view_df.columns.str.strip()\n",
    "\n",
    "# 주요 컬럼 선택\n",
    "night_view_df = night_view_df[[\n",
    "    '장소명', '주소', '전화번호', '운영시간', '홈페이지 URL', '지하철', '버스', '내용'\n",
    "]].fillna('')\n",
    "\n",
    "# 설명 필드 구성\n",
    "night_view_df['설명'] = night_view_df['장소명'] + \" - \" + \\\n",
    "                        night_view_df['주소'] + \" (전화번호: \" + night_view_df['전화번호'] + \") \" + \\\n",
    "                        \"(운영시간: \" + night_view_df['운영시간'] + \") \" + \\\n",
    "                        \"(웹사이트: \" + night_view_df['홈페이지 URL'] + \") \" + \\\n",
    "                        \"(교통정보: 지하철 - \" + night_view_df['지하철'] + \", 버스 - \" + night_view_df['버스'] + \")\"\n",
    "\n",
    "# ---------------------\n",
    "# 2. FAISS 인덱스 구축\n",
    "# ---------------------\n",
    "embed_model = SentenceTransformer('sentence-transformers/all-MiniLM-L6-v2')\n",
    "night_view_df['embedding'] = night_view_df['설명'].apply(lambda x: embed_model.encode(str(x)))\n",
    "\n",
    "# FAISS 인덱스 생성\n",
    "d = len(night_view_df['embedding'].iloc[0])  # 첫 번째 임베딩의 차원 확인\n",
    "index = faiss.IndexFlatL2(d)\n",
    "index.add(np.array(night_view_df['embedding'].tolist()))\n",
    "\n",
    "# ---------------------\n",
    "# 3. 검색 함수\n",
    "# ---------------------\n",
    "def search(query, top_k=5):\n",
    "    query_vector = embed_model.encode(query).reshape(1, -1)\n",
    "    _, indices = index.search(query_vector, top_k)\n",
    "    results = night_view_df.iloc[indices[0]]\n",
    "    \n",
    "    return results\n",
    "\n",
    "# ---------------------\n",
    "# 4. Gemma 3 기반 답변 생성\n",
    "# ---------------------\n",
    "def generate_response(question):\n",
    "    relevant_docs = search(question, top_k=5)\n",
    "    \n",
    "    # 검색 결과가 없는 경우\n",
    "    if relevant_docs.empty:\n",
    "        return \"❗️관련된 정보를 찾을 수 없습니다. 다른 키워드로 시도해보세요.\"\n",
    "    \n",
    "    context = \"\\n\".join(relevant_docs['설명'].tolist())\n",
    "    \n",
    "    prompt = f\"질문: {question}\\n관련 정보:\\n{context}\\n답변:\"\n",
    "    \n",
    "    try:\n",
    "        response = requests.post(\n",
    "            \"http://localhost:11434/api/generate\",\n",
    "            json={\"model\": \"gemma:2b\", \"prompt\": prompt, \"stream\": False}\n",
    "        )\n",
    "        if response.status_code != 200:\n",
    "            return f\"❗️Gemma 3 API 호출 실패 (상태 코드: {response.status_code})\"\n",
    "        return response.json().get(\"response\", \"❗️응답 생성에 실패했습니다.\")\n",
    "    \n",
    "    except Exception as e:\n",
    "        return f\"❗️Gemma 3 API 호출 오류: {str(e)}\"\n",
    "\n",
    "# ---------------------\n",
    "# 5. 테스트\n",
    "# ---------------------\n",
    "if __name__ == \"__main__\":\n",
    "    print(\"서울시 야경 명소 추천 챗봇입니다. 종료하려면 '종료'라고 입력하세요.\")\n",
    "    while True:\n",
    "        question = input(\"질문을 입력하세요: \")\n",
    "        if question.lower().strip() == '종료':\n",
    "            print(\"챗봇을 종료합니다.\")\n",
    "            sys.exit()\n",
    "        print(generate_response(question))\n"
   ]
  }
 ],
 "metadata": {
  "kernelspec": {
   "display_name": "Python 3 (ipykernel)",
   "language": "python",
   "name": "python3"
  },
  "language_info": {
   "codemirror_mode": {
    "name": "ipython",
    "version": 3
   },
   "file_extension": ".py",
   "mimetype": "text/x-python",
   "name": "python",
   "nbconvert_exporter": "python",
   "pygments_lexer": "ipython3",
   "version": "3.12.8"
  }
 },
 "nbformat": 4,
 "nbformat_minor": 5
}
