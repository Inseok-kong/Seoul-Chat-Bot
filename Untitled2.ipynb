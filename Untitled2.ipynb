{
 "cells": [
  {
   "cell_type": "code",
   "execution_count": 24,
   "id": "4c8e22ad-eb9c-47b8-97a9-b6fd392c6904",
   "metadata": {},
   "outputs": [
    {
     "name": "stdout",
     "output_type": "stream",
     "text": [
      "완료! 파일명: 영천_오미_영천_기후_통합_2024.txt (탭 구분 텍스트 파일)\n"
     ]
    }
   ],
   "source": [
    "import pandas as pd\n",
    "\n",
    "# 파일 경로\n",
    "omi_path = './영천시_오미동_2024년.csv'\n",
    "utf_path = './영천시 기후데이터_utf.csv'\n",
    "\n",
    "# 1. 금호읍 데이터 읽기 (헤더 없이)\n",
    "omi_raw = pd.read_csv(omi_path, encoding='utf-8', header=None)\n",
    "\n",
    "# A,B,I,J 열 = 0,1,8,9\n",
    "# 10행부터 (인덱스 9부터)\n",
    "omi_selected = omi_raw.iloc[9:, [0, 1, 8, 9]]\n",
    "\n",
    "# 컬럼명 지정 (예시)\n",
    "omi_selected.columns = ['날짜', '평균기온', '금년도_일사량', '전년도_일사량']\n",
    "\n",
    "# 2. 영천시 데이터 읽기\n",
    "utf_raw = pd.read_csv(utf_path, encoding='utf-8', header=None)\n",
    "\n",
    "# C,D,E 행, 1842행부터 (인덱스 1841부터)\n",
    "utf_selected = utf_raw.iloc[1841:, [2, 3, 4]]\n",
    "\n",
    "# 컬럼명 지정 (예시)\n",
    "utf_selected.columns = ['날짜_utf', '일조합', '일조율']\n",
    "\n",
    "# 3. 두 데이터 가로 병합\n",
    "merged = pd.concat([omi_selected.reset_index(drop=True), utf_selected.reset_index(drop=True)], axis=1)\n",
    "\n",
    "# 4. 컬럼 순서 맞춤\n",
    "final_cols = ['날짜', '평균기온', '금년도_일사량', '전년도_일사량', '날짜_utf', '일조합', '일조율']\n",
    "final_df = merged[final_cols]\n",
    "\n",
    "# 5. TXT 파일로 저장 (탭 구분)\n",
    "final_df.to_csv('./영천_금호_오미_기후_통합_2024.txt', sep='\\t', index=False, encoding='utf-8-sig')\n",
    "\n",
    "print(\"완료! 파일명: 영천_오미_영천_기후_통합_2024.txt (탭 구분 텍스트 파일)\")\n"
   ]
  },
  {
   "cell_type": "code",
   "execution_count": 13,
   "id": "3e8bd4cd-3d76-4194-8eae-5dc124c6060b",
   "metadata": {},
   "outputs": [
    {
     "name": "stdout",
     "output_type": "stream",
     "text": [
      "['281', '영천', '2019-01-01', '5.7', '58.2', 'Unnamed: 5']\n",
      "['2024-01-08', '-4.9', '4.4', '-12.1', '-1.56', '-3.37', '0', '0.1', '13.4', '11.8', '-', '-.1']\n"
     ]
    }
   ],
   "source": [
    "print(utf.columns.tolist())\n",
    "print(omi.columns.tolist())\n"
   ]
  },
  {
   "cell_type": "code",
   "execution_count": 17,
   "id": "012d9af9-c178-4c76-9988-703d995702a7",
   "metadata": {},
   "outputs": [
    {
     "ename": "ValueError",
     "evalue": "Length mismatch: Expected axis has 6 elements, new values have 7 elements",
     "output_type": "error",
     "traceback": [
      "\u001b[1;31m---------------------------------------------------------------------------\u001b[0m",
      "\u001b[1;31mValueError\u001b[0m                                Traceback (most recent call last)",
      "Cell \u001b[1;32mIn[17], line 17\u001b[0m\n\u001b[0;32m      6\u001b[0m \u001b[38;5;66;03m# 2. 실제 컬럼명 지정 (필요시 아래 리스트를 원하는 대로 수정!)\u001b[39;00m\n\u001b[0;32m      7\u001b[0m columns \u001b[38;5;241m=\u001b[39m [\n\u001b[0;32m      8\u001b[0m     \u001b[38;5;124m\"\u001b[39m\u001b[38;5;124m날짜\u001b[39m\u001b[38;5;124m\"\u001b[39m,        \u001b[38;5;66;03m# 0번 컬럼: 날짜 (예: 2024-01-01)\u001b[39;00m\n\u001b[0;32m      9\u001b[0m     \u001b[38;5;124m\"\u001b[39m\u001b[38;5;124m평균기온\u001b[39m\u001b[38;5;124m\"\u001b[39m,    \u001b[38;5;66;03m# 1번 컬럼: 평균기온\u001b[39;00m\n\u001b[1;32m   (...)\u001b[0m\n\u001b[0;32m     14\u001b[0m     \u001b[38;5;124m\"\u001b[39m\u001b[38;5;124m일사량\u001b[39m\u001b[38;5;124m\"\u001b[39m       \u001b[38;5;66;03m# 6번 컬럼: 일사량\u001b[39;00m\n\u001b[0;32m     15\u001b[0m ]\n\u001b[1;32m---> 17\u001b[0m \u001b[43mdf\u001b[49m\u001b[38;5;241;43m.\u001b[39;49m\u001b[43mcolumns\u001b[49m \u001b[38;5;241m=\u001b[39m columns\n\u001b[0;32m     19\u001b[0m \u001b[38;5;66;03m# 3. 컬럼명 적용된 csv로 저장\u001b[39;00m\n\u001b[0;32m     20\u001b[0m df\u001b[38;5;241m.\u001b[39mto_csv(\u001b[38;5;124m'\u001b[39m\u001b[38;5;124m./영천시_기후데이터_utf_2024only_named.csv\u001b[39m\u001b[38;5;124m'\u001b[39m, index\u001b[38;5;241m=\u001b[39m\u001b[38;5;28;01mFalse\u001b[39;00m, encoding\u001b[38;5;241m=\u001b[39m\u001b[38;5;124m'\u001b[39m\u001b[38;5;124mutf-8-sig\u001b[39m\u001b[38;5;124m'\u001b[39m)\n",
      "File \u001b[1;32mC:\\miniforge3\\Lib\\site-packages\\pandas\\core\\generic.py:6313\u001b[0m, in \u001b[0;36mNDFrame.__setattr__\u001b[1;34m(self, name, value)\u001b[0m\n\u001b[0;32m   6311\u001b[0m \u001b[38;5;28;01mtry\u001b[39;00m:\n\u001b[0;32m   6312\u001b[0m     \u001b[38;5;28mobject\u001b[39m\u001b[38;5;241m.\u001b[39m\u001b[38;5;21m__getattribute__\u001b[39m(\u001b[38;5;28mself\u001b[39m, name)\n\u001b[1;32m-> 6313\u001b[0m     \u001b[38;5;28;01mreturn\u001b[39;00m \u001b[38;5;28;43mobject\u001b[39;49m\u001b[38;5;241;43m.\u001b[39;49m\u001b[38;5;21;43m__setattr__\u001b[39;49m\u001b[43m(\u001b[49m\u001b[38;5;28;43mself\u001b[39;49m\u001b[43m,\u001b[49m\u001b[43m \u001b[49m\u001b[43mname\u001b[49m\u001b[43m,\u001b[49m\u001b[43m \u001b[49m\u001b[43mvalue\u001b[49m\u001b[43m)\u001b[49m\n\u001b[0;32m   6314\u001b[0m \u001b[38;5;28;01mexcept\u001b[39;00m \u001b[38;5;167;01mAttributeError\u001b[39;00m:\n\u001b[0;32m   6315\u001b[0m     \u001b[38;5;28;01mpass\u001b[39;00m\n",
      "File \u001b[1;32mproperties.pyx:69\u001b[0m, in \u001b[0;36mpandas._libs.properties.AxisProperty.__set__\u001b[1;34m()\u001b[0m\n",
      "File \u001b[1;32mC:\\miniforge3\\Lib\\site-packages\\pandas\\core\\generic.py:814\u001b[0m, in \u001b[0;36mNDFrame._set_axis\u001b[1;34m(self, axis, labels)\u001b[0m\n\u001b[0;32m    809\u001b[0m \u001b[38;5;250m\u001b[39m\u001b[38;5;124;03m\"\"\"\u001b[39;00m\n\u001b[0;32m    810\u001b[0m \u001b[38;5;124;03mThis is called from the cython code when we set the `index` attribute\u001b[39;00m\n\u001b[0;32m    811\u001b[0m \u001b[38;5;124;03mdirectly, e.g. `series.index = [1, 2, 3]`.\u001b[39;00m\n\u001b[0;32m    812\u001b[0m \u001b[38;5;124;03m\"\"\"\u001b[39;00m\n\u001b[0;32m    813\u001b[0m labels \u001b[38;5;241m=\u001b[39m ensure_index(labels)\n\u001b[1;32m--> 814\u001b[0m \u001b[38;5;28;43mself\u001b[39;49m\u001b[38;5;241;43m.\u001b[39;49m\u001b[43m_mgr\u001b[49m\u001b[38;5;241;43m.\u001b[39;49m\u001b[43mset_axis\u001b[49m\u001b[43m(\u001b[49m\u001b[43maxis\u001b[49m\u001b[43m,\u001b[49m\u001b[43m \u001b[49m\u001b[43mlabels\u001b[49m\u001b[43m)\u001b[49m\n\u001b[0;32m    815\u001b[0m \u001b[38;5;28mself\u001b[39m\u001b[38;5;241m.\u001b[39m_clear_item_cache()\n",
      "File \u001b[1;32mC:\\miniforge3\\Lib\\site-packages\\pandas\\core\\internals\\managers.py:238\u001b[0m, in \u001b[0;36mBaseBlockManager.set_axis\u001b[1;34m(self, axis, new_labels)\u001b[0m\n\u001b[0;32m    236\u001b[0m \u001b[38;5;28;01mdef\u001b[39;00m\u001b[38;5;250m \u001b[39m\u001b[38;5;21mset_axis\u001b[39m(\u001b[38;5;28mself\u001b[39m, axis: AxisInt, new_labels: Index) \u001b[38;5;241m-\u001b[39m\u001b[38;5;241m>\u001b[39m \u001b[38;5;28;01mNone\u001b[39;00m:\n\u001b[0;32m    237\u001b[0m     \u001b[38;5;66;03m# Caller is responsible for ensuring we have an Index object.\u001b[39;00m\n\u001b[1;32m--> 238\u001b[0m     \u001b[38;5;28;43mself\u001b[39;49m\u001b[38;5;241;43m.\u001b[39;49m\u001b[43m_validate_set_axis\u001b[49m\u001b[43m(\u001b[49m\u001b[43maxis\u001b[49m\u001b[43m,\u001b[49m\u001b[43m \u001b[49m\u001b[43mnew_labels\u001b[49m\u001b[43m)\u001b[49m\n\u001b[0;32m    239\u001b[0m     \u001b[38;5;28mself\u001b[39m\u001b[38;5;241m.\u001b[39maxes[axis] \u001b[38;5;241m=\u001b[39m new_labels\n",
      "File \u001b[1;32mC:\\miniforge3\\Lib\\site-packages\\pandas\\core\\internals\\base.py:98\u001b[0m, in \u001b[0;36mDataManager._validate_set_axis\u001b[1;34m(self, axis, new_labels)\u001b[0m\n\u001b[0;32m     95\u001b[0m     \u001b[38;5;28;01mpass\u001b[39;00m\n\u001b[0;32m     97\u001b[0m \u001b[38;5;28;01melif\u001b[39;00m new_len \u001b[38;5;241m!=\u001b[39m old_len:\n\u001b[1;32m---> 98\u001b[0m     \u001b[38;5;28;01mraise\u001b[39;00m \u001b[38;5;167;01mValueError\u001b[39;00m(\n\u001b[0;32m     99\u001b[0m         \u001b[38;5;124mf\u001b[39m\u001b[38;5;124m\"\u001b[39m\u001b[38;5;124mLength mismatch: Expected axis has \u001b[39m\u001b[38;5;132;01m{\u001b[39;00mold_len\u001b[38;5;132;01m}\u001b[39;00m\u001b[38;5;124m elements, new \u001b[39m\u001b[38;5;124m\"\u001b[39m\n\u001b[0;32m    100\u001b[0m         \u001b[38;5;124mf\u001b[39m\u001b[38;5;124m\"\u001b[39m\u001b[38;5;124mvalues have \u001b[39m\u001b[38;5;132;01m{\u001b[39;00mnew_len\u001b[38;5;132;01m}\u001b[39;00m\u001b[38;5;124m elements\u001b[39m\u001b[38;5;124m\"\u001b[39m\n\u001b[0;32m    101\u001b[0m     )\n",
      "\u001b[1;31mValueError\u001b[0m: Length mismatch: Expected axis has 6 elements, new values have 7 elements"
     ]
    }
   ],
   "source": [
    "import pandas as pd\n",
    "\n",
    "# 1. 파일 읽기 (header=None)\n",
    "df = pd.read_csv('./영천시_기후데이터_utf_2024only.csv', header=None)\n",
    "\n",
    "# 2. 실제 컬럼명 지정 (필요시 아래 리스트를 원하는 대로 수정!)\n",
    "columns = [\n",
    "    \"지점번호\",        # 0번 컬럼: 날짜 (예: 2024-01-01)\n",
    "    \"지점명\",    # 1번 컬럼: 평균기온\n",
    "    \"날짜\",    # 2번 컬럼: 최고기온\n",
    "    \"최저기온\",    # 3번 컬럼: 최저기온\n",
    "    \"전년대비\",    # 4번 컬럼: 전년대비(기온/값)\n",
    "    \"강수량\",      # 5번 컬럼: 강수량\n",
    "    \"일사량\"       # 6번 컬럼: 일사량\n",
    "]\n",
    "\n",
    "df.columns = columns\n",
    "\n",
    "# 3. 컬럼명 적용된 csv로 저장\n",
    "df.to_csv('./영천시_기후데이터_utf_2024only_named.csv', index=False, encoding='utf-8-sig')\n",
    "\n",
    "print(\"컬럼명이 포함된 CSV로 저장 완료!\")\n"
   ]
  }
 ],
 "metadata": {
  "kernelspec": {
   "display_name": "Python 3 (ipykernel)",
   "language": "python",
   "name": "python3"
  },
  "language_info": {
   "codemirror_mode": {
    "name": "ipython",
    "version": 3
   },
   "file_extension": ".py",
   "mimetype": "text/x-python",
   "name": "python",
   "nbconvert_exporter": "python",
   "pygments_lexer": "ipython3",
   "version": "3.12.8"
  }
 },
 "nbformat": 4,
 "nbformat_minor": 5
}
