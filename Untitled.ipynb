{
 "cells": [
  {
   "cell_type": "code",
   "execution_count": 5,
   "id": "602098e9-85e3-4545-a792-2198565667ce",
   "metadata": {},
   "outputs": [
    {
     "name": "stdout",
     "output_type": "stream",
     "text": [
      "✅ 지도 파일이 저장되었습니다: ./seoul_culture_cleaned_map.html\n"
     ]
    }
   ],
   "source": [
    "import pandas as pd\n",
    "import folium\n",
    "from folium.plugins import MarkerCluster\n",
    "\n",
    "# 1. CSV 파일 경로 설정 (로컬 상대 경로)\n",
    "file_paths = {\n",
    "    \"야경명소\": \"./서울시 야경명소 정보 (1).csv\",\n",
    "    \"관광음식\": \"./서울시 관광 음식 (1).csv\",\n",
    "    \"관광거리\": \"./서울시 관광거리 정보 (한국어).csv\",\n",
    "    \"문화행사\": \"./서울시 문화행사 정보.csv\"\n",
    "}\n",
    "\n",
    "# 2. CSV 파일 읽기\n",
    "dfs = {name: pd.read_csv(path) for name, path in file_paths.items()}\n",
    "\n",
    "# 3. 필요한 컬럼만 추출하는 함수 정의\n",
    "def clean_and_extract(df, lat_col, lng_col, name_col):\n",
    "    df_clean = df[[lat_col, lng_col, name_col]].dropna()\n",
    "    df_clean.columns = [\"lat\", \"lng\", \"name\"]\n",
    "    return df_clean\n",
    "\n",
    "# 4. 지도에 띄울 수 있는 데이터셋 구성 (관광음식은 좌표 없음 → 제외)\n",
    "datasets_cleaned = {\n",
    "    \"야경명소\": clean_and_extract(dfs[\"야경명소\"], \"위도\", \"경도\", \"장소명\"),\n",
    "    \"관광거리\": clean_and_extract(dfs[\"관광거리\"], \"중심 좌표 Y\", \"중심 좌표 X\", \"최종 표기명\"),\n",
    "    \"문화행사\": clean_and_extract(dfs[\"문화행사\"], \"위도(Y좌표)\", \"경도(X좌표)\", \"공연/행사명\")\n",
    "}\n",
    "\n",
    "# 5. folium 지도 생성\n",
    "m = folium.Map(location=[37.5665, 126.9780], zoom_start=11)\n",
    "\n",
    "# 6. 마커 색상 및 아이콘 설정\n",
    "colors = {\n",
    "    \"야경명소\": \"cadetblue\",\n",
    "    \"관광거리\": \"orange\",\n",
    "    \"문화행사\": \"darkred\"\n",
    "}\n",
    "icons = {\n",
    "    \"야경명소\": \"star\",\n",
    "    \"관광거리\": \"road\",\n",
    "    \"문화행사\": \"music\"\n",
    "}\n",
    "\n",
    "# 7. FeatureGroup으로 항목별 마커 구성\n",
    "for key, df in datasets_cleaned.items():\n",
    "    fg = folium.FeatureGroup(name=key)  # 항목별 레이어 생성\n",
    "    marker_cluster = MarkerCluster().add_to(fg)\n",
    "    \n",
    "    for _, row in df.iterrows():\n",
    "        popup_html = f\"<div style='font-size:14px; font-weight:500;'>{key}<br>{row['name']}</div>\"\n",
    "        folium.Marker(\n",
    "            location=[row[\"lat\"], row[\"lng\"]],\n",
    "            popup=folium.Popup(popup_html, max_width=300),\n",
    "            icon=folium.Icon(color=colors[key], icon=icons[key], prefix=\"fa\")\n",
    "        ).add_to(marker_cluster)\n",
    "    \n",
    "    fg.add_to(m)  # 지도에 FeatureGroup 추가\n",
    "\n",
    "# 8. 항목별 레이어 제어 버튼 추가\n",
    "folium.LayerControl(collapsed=False).add_to(m)\n",
    "\n",
    "# 9. HTML로 저장 (상대경로)\n",
    "map_path = \"./seoul_culture_cleaned_map.html\"\n",
    "m.save(map_path)\n",
    "\n",
    "print(\"✅ 지도 파일이 저장되었습니다:\", map_path)\n"
   ]
  }
 ],
 "metadata": {
  "kernelspec": {
   "display_name": "Python 3 (ipykernel)",
   "language": "python",
   "name": "python3"
  },
  "language_info": {
   "codemirror_mode": {
    "name": "ipython",
    "version": 3
   },
   "file_extension": ".py",
   "mimetype": "text/x-python",
   "name": "python",
   "nbconvert_exporter": "python",
   "pygments_lexer": "ipython3",
   "version": "3.12.8"
  }
 },
 "nbformat": 4,
 "nbformat_minor": 5
}
